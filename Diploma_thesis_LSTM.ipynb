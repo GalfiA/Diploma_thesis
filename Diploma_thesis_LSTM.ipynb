{
 "cells": [
  {
   "cell_type": "code",
   "execution_count": 1,
   "metadata": {},
   "outputs": [
    {
     "data": {
      "text/html": [
       "<style>.container { width:60% !important; }</style>"
      ],
      "text/plain": [
       "<IPython.core.display.HTML object>"
      ]
     },
     "metadata": {},
     "output_type": "display_data"
    }
   ],
   "source": [
    "from IPython.core.display import display, HTML\n",
    "display(HTML(\"<style>.container { width:60% !important; }</style>\"))\n",
    "%config IPCompleter.greedy=True"
   ]
  },
  {
   "cell_type": "code",
   "execution_count": 2,
   "metadata": {},
   "outputs": [
    {
     "name": "stdout",
     "output_type": "stream",
     "text": [
      "Populating the interactive namespace from numpy and matplotlib\n"
     ]
    }
   ],
   "source": [
    "import pandas as pd\n",
    "import numpy as np\n",
    "from matplotlib import pyplot as plt\n",
    "%pylab inline\n",
    "import tensorflow as tf\n",
    "import re\n",
    "from pathlib import Path"
   ]
  },
  {
   "cell_type": "code",
   "execution_count": 3,
   "metadata": {},
   "outputs": [],
   "source": [
    "import torch\n",
    "from torch import nn\n",
    "import torch.optim as optim\n",
    "from sklearn.model_selection import train_test_split as split\n",
    "from torch.utils.data import DataLoader"
   ]
  },
  {
   "cell_type": "code",
   "execution_count": 4,
   "metadata": {},
   "outputs": [],
   "source": [
    "import torch.nn.functional as F"
   ]
  },
  {
   "cell_type": "code",
   "execution_count": 5,
   "metadata": {},
   "outputs": [],
   "source": [
    "def read_and_sentence(file_path):\n",
    "    file_path = Path(file_path)\n",
    "    \n",
    "    raw_text = file_path.read_text().strip()\n",
    "    raw_sentences = re.split(r'\\n\\t?\\n', raw_text)\n",
    "    \n",
    "    sentence_tokens = []\n",
    "    sentence_tags = []\n",
    "    \n",
    "    for sents in raw_sentences:\n",
    "        tokens = []\n",
    "        tags = []\n",
    "        \n",
    "        for line in sents.split('\\n'):\n",
    "            token = line.split()[0]\n",
    "            tag = line.split()[3]\n",
    "            \n",
    "            tokens.append(token)\n",
    "            # tags.append(entity_to_number[tag])\n",
    "            tags.append(tag)\n",
    "            \n",
    "        sentence_tokens.append(tokens)\n",
    "        sentence_tags.append(tags)\n",
    "    \n",
    "    return sentence_tokens, sentence_tags"
   ]
  },
  {
   "cell_type": "code",
   "execution_count": 6,
   "metadata": {},
   "outputs": [],
   "source": [
    "train_data_full, train_tags_full = read_and_sentence('E:\\Egyetem\\Diplomaterv\\data\\conllpp_train.txt')\n",
    "dev_data_full, dev_tags_full = read_and_sentence('E:\\Egyetem\\Diplomaterv\\data\\conllpp_dev.txt')\n",
    "test_data_full, test_tags_full = read_and_sentence('E:\\Egyetem\\Diplomaterv\\data\\conllpp_test.txt')"
   ]
  },
  {
   "cell_type": "code",
   "execution_count": 7,
   "metadata": {},
   "outputs": [],
   "source": [
    "## train_data = train_data_full[:40000]\n",
    "## train_tags = train_tags_full[:40000]\n",
    "\n",
    "## dev_data = dev_data_full[:10000]\n",
    "## dev_tags = dev_tags_full[:10000]\n",
    "\n",
    "## test_data = test_data_full[:10000]\n",
    "## test_tags = test_tags_full[:10000]\n",
    "\n",
    "train_data = train_data_full\n",
    "train_tags = train_tags_full\n",
    "\n",
    "dev_data = dev_data_full\n",
    "dev_tags = dev_tags_full\n",
    "\n",
    "test_data = test_data_full\n",
    "test_tags = test_tags_full"
   ]
  },
  {
   "cell_type": "code",
   "execution_count": 8,
   "metadata": {},
   "outputs": [],
   "source": [
    "tr_words = [i for sublist in train_data for i in sublist]\n",
    "dv_words = [i for sublist in dev_data for i in sublist]\n",
    "tst_words = [i for sublist in test_data for i in sublist]\n",
    "\n",
    "tr_tags = [i for sublist in train_tags for i in sublist]\n",
    "dv_tags = [i for sublist in dev_tags for i in sublist]\n",
    "tst_tags = [i for sublist in test_tags for i in sublist]"
   ]
  },
  {
   "cell_type": "code",
   "execution_count": 9,
   "metadata": {},
   "outputs": [],
   "source": [
    "def create_vocab(word_list):\n",
    "    unique_list = []\n",
    "    vocab = {}\n",
    "    \n",
    "    for val in word_list:\n",
    "        if val not in unique_list:\n",
    "            unique_list.append(val)\n",
    "            \n",
    "    for i, l in enumerate(unique_list):\n",
    "        vocab[l] = i\n",
    "    return vocab"
   ]
  },
  {
   "cell_type": "code",
   "execution_count": 10,
   "metadata": {},
   "outputs": [],
   "source": [
    "word_vocab = create_vocab(tr_words+dv_words+tst_words)\n",
    "og_length = len(word_vocab)"
   ]
  },
  {
   "cell_type": "code",
   "execution_count": 11,
   "metadata": {},
   "outputs": [],
   "source": [
    "label_vocab = create_vocab(tr_tags+dv_tags+tst_tags)"
   ]
  },
  {
   "cell_type": "code",
   "execution_count": 12,
   "metadata": {},
   "outputs": [
    {
     "name": "stdout",
     "output_type": "stream",
     "text": [
      "9\n"
     ]
    },
    {
     "data": {
      "text/plain": [
       "{'O': 0,\n",
       " 'B-ORG': 1,\n",
       " 'B-MISC': 2,\n",
       " 'B-PER': 3,\n",
       " 'I-PER': 4,\n",
       " 'B-LOC': 5,\n",
       " 'I-ORG': 6,\n",
       " 'I-MISC': 7,\n",
       " 'I-LOC': 8}"
      ]
     },
     "execution_count": 12,
     "metadata": {},
     "output_type": "execute_result"
    }
   ],
   "source": [
    "print(len(label_vocab))\n",
    "label_vocab"
   ]
  },
  {
   "cell_type": "code",
   "execution_count": 13,
   "metadata": {},
   "outputs": [
    {
     "data": {
      "text/plain": [
       "30290"
      ]
     },
     "execution_count": 13,
     "metadata": {},
     "output_type": "execute_result"
    }
   ],
   "source": [
    "len(word_vocab)"
   ]
  },
  {
   "cell_type": "code",
   "execution_count": 14,
   "metadata": {},
   "outputs": [],
   "source": [
    "def check_similar_label_length(data):\n",
    "    current_label = 'O'\n",
    "    current_length = 0\n",
    "    longest_similar_length = 0\n",
    "    longest_label = 'O'\n",
    "    \n",
    "    for sentence in data:\n",
    "        current_label = 'O'\n",
    "        current_length = 0\n",
    "        \n",
    "        for i in sentence:\n",
    "            if i == 'O':\n",
    "                if current_length > longest_similar_length:\n",
    "                    longest_similar_length = current_length\n",
    "                    longest_label = current_label\n",
    "                    \n",
    "                current_label = 'O'\n",
    "                current_length = 0\n",
    "                \n",
    "            elif i != current_label:\n",
    "                \n",
    "                if current_length > longest_similar_length:\n",
    "                    longest_similar_length = current_length\n",
    "                    longest_label = current_label\n",
    "                \n",
    "                current_label = i\n",
    "                current_length = 1\n",
    "            \n",
    "            else:\n",
    "                current_length += 1\n",
    "    return longest_similar_length, longest_label\n",
    "                \n",
    "        "
   ]
  },
  {
   "cell_type": "code",
   "execution_count": 15,
   "metadata": {},
   "outputs": [
    {
     "name": "stdout",
     "output_type": "stream",
     "text": [
      "(9, 'I-ORG')\n",
      "(9, 'I-ORG')\n",
      "(5, 'I-MISC')\n"
     ]
    }
   ],
   "source": [
    "print(check_similar_label_length(train_tags))\n",
    "print(check_similar_label_length(dev_tags))\n",
    "print(check_similar_label_length(test_tags))"
   ]
  },
  {
   "cell_type": "markdown",
   "metadata": {},
   "source": [
    "### check_label_order function:\n",
    "\n",
    "This function is checking whether there is an appropiate B-xxx tag in fornt of each I-xxx sequence"
   ]
  },
  {
   "cell_type": "code",
   "execution_count": 16,
   "metadata": {},
   "outputs": [],
   "source": [
    "def check_label_order(data): \n",
    "    for sentence in data:\n",
    "        if 'I-PER' in sentence:\n",
    "            if 'B-PER' not in sentence:\n",
    "                return False, sentence\n",
    "        \n",
    "        if 'I-ORG' in sentence:\n",
    "            if 'B-ORG' not in sentence:\n",
    "                return False, sentence\n",
    "        \n",
    "        if 'I-MISC' in sentence:\n",
    "            if 'B-MISC' not in sentence:\n",
    "                return False, sentence\n",
    "            \n",
    "        if 'I-LOC' in sentence:\n",
    "            if 'B-LOC' not in sentence:\n",
    "                return False, sentence\n",
    "            \n",
    "        \n",
    "        for i, j in enumerate(sentence[:-1]):\n",
    "            if sentence[i + 1] ==  'I-PER':\n",
    "                    if sentence[i] != 'I-PER' and sentence[i] != 'B-PER':\n",
    "                        return False, sentence\n",
    "            if sentence[i + 1] ==  'I-ORG':\n",
    "                    if sentence[i] != 'I-ORG' and sentence[i] != 'B-ORG':\n",
    "                        return False, sentence\n",
    "            if sentence[i + 1] ==  'I-MISC':\n",
    "                    if sentence[i] != 'I-MISC' and sentence[i] != 'B-MISC':\n",
    "                        return False, sentence\n",
    "            if sentence[i + 1] ==  'I-LOC':\n",
    "                    if sentence[i] != 'I-LOC' and sentence[i] != 'B-LOC':\n",
    "                        return False, sentence\n",
    "    return True"
   ]
  },
  {
   "cell_type": "code",
   "execution_count": 17,
   "metadata": {},
   "outputs": [
    {
     "name": "stdout",
     "output_type": "stream",
     "text": [
      "True\n",
      "True\n",
      "True\n"
     ]
    }
   ],
   "source": [
    "print(check_label_order(train_tags))\n",
    "print(check_label_order(dev_tags))\n",
    "print(check_label_order(test_tags))"
   ]
  },
  {
   "cell_type": "code",
   "execution_count": 18,
   "metadata": {},
   "outputs": [],
   "source": [
    "training_data = list(zip(train_data, train_tags))\n",
    "testing_data = list(zip(test_data, test_tags))"
   ]
  },
  {
   "cell_type": "code",
   "execution_count": 19,
   "metadata": {},
   "outputs": [],
   "source": [
    "def prepare_sequence(seq, to_ix):\n",
    "    idxs = [to_ix[w] for w in seq]\n",
    "    return torch.tensor(idxs, dtype=torch.long)"
   ]
  },
  {
   "cell_type": "code",
   "execution_count": 20,
   "metadata": {},
   "outputs": [
    {
     "data": {
      "text/plain": [
       "['O', 'O', 'B-LOC', 'O', 'O', 'O', 'O', 'B-LOC', 'O', 'O', 'O', 'O']"
      ]
     },
     "execution_count": 20,
     "metadata": {},
     "output_type": "execute_result"
    }
   ],
   "source": [
    "testing_data[1][1]"
   ]
  },
  {
   "cell_type": "code",
   "execution_count": 21,
   "metadata": {},
   "outputs": [],
   "source": [
    "VOCAB_SIZE = len(word_vocab)\n",
    "OUT_DIM = len(label_vocab)\n",
    "EMBED_DIM = 64\n",
    "HIDDEN_DIM = 32\n",
    "learning_rate = 0.01\n",
    "\n",
    "BATCH_SIZE = 256\n",
    "device = torch.device('cuda' if torch.cuda.is_available() else 'cpu')"
   ]
  },
  {
   "cell_type": "code",
   "execution_count": 22,
   "metadata": {},
   "outputs": [],
   "source": [
    "class LSTMTagger(nn.Module):\n",
    "\n",
    "    def __init__(self, embedding_dim, hidden_dim, vocab_size, tagset_size):\n",
    "        super(LSTMTagger, self).__init__()\n",
    "        self.hidden_dim = hidden_dim\n",
    "\n",
    "        self.word_embeddings = nn.Embedding(vocab_size, embedding_dim)\n",
    "\n",
    "        self.lstm = nn.LSTM(embedding_dim, hidden_dim)\n",
    "\n",
    "        self.hidden2tag = nn.Linear(hidden_dim, tagset_size)\n",
    "\n",
    "    def forward(self, sentence):\n",
    "        embeds = self.word_embeddings(sentence)\n",
    "        lstm_out, _ = self.lstm(embeds.view(len(sentence), 1, -1))\n",
    "        tag_space = self.hidden2tag(lstm_out.view(len(sentence), -1))\n",
    "        tag_scores = F.log_softmax(tag_space, dim=1)\n",
    "        return tag_scores"
   ]
  },
  {
   "cell_type": "code",
   "execution_count": 23,
   "metadata": {},
   "outputs": [],
   "source": [
    "model = LSTMTagger(EMBED_DIM, HIDDEN_DIM, VOCAB_SIZE, OUT_DIM)\n",
    "\n",
    "loss_function = nn.NLLLoss()\n",
    "optimizer = optim.SGD(model.parameters(), lr=learning_rate)"
   ]
  },
  {
   "cell_type": "code",
   "execution_count": 24,
   "metadata": {},
   "outputs": [],
   "source": [
    "# with torch.no_grad():\n",
    "#     inputs = prepare_sequence(training_data[1][0], word_vocab)\n",
    "#     tag_scores = model(inputs)\n",
    "#     print(tag_scores)"
   ]
  },
  {
   "cell_type": "code",
   "execution_count": 25,
   "metadata": {},
   "outputs": [],
   "source": [
    "from sklearn.metrics import precision_recall_fscore_support\n",
    "\n",
    "def class_performance(preds, y):\n",
    "\n",
    "    rounded_preds = preds.argmax(1)\n",
    "\n",
    "    precision, recall, fscore, support = precision_recall_fscore_support(\n",
    "        rounded_preds.cpu(), y.cpu()\n",
    "    )\n",
    "\n",
    "    return precision[0], recall[0], fscore[0]"
   ]
  },
  {
   "cell_type": "code",
   "execution_count": 26,
   "metadata": {},
   "outputs": [],
   "source": [
    "def train(model, training_data, criterion):\n",
    "    \n",
    "    epoch_loss = 0\n",
    "    epoch_prec = 0\n",
    "    epoch_recall = 0\n",
    "    epoch_fscore = 0\n",
    "    \n",
    "    model.train()\n",
    "    \n",
    "    for sentence, tags in training_data:\n",
    "        \n",
    "        model.zero_grad()\n",
    "        \n",
    "        sentence_in = prepare_sequence(sentence, word_vocab)\n",
    "        targets = prepare_sequence(tags, label_vocab)\n",
    "        \n",
    "        tag_scores = model(sentence_in)\n",
    "\n",
    "        loss = criterion(tag_scores, targets)\n",
    "        prec, recall, fscore = class_performance(tag_scores, targets)\n",
    "\n",
    "        loss.backward()\n",
    "        optimizer.step()\n",
    "\n",
    "        epoch_loss += loss.item()\n",
    "        epoch_prec += prec.item()\n",
    "        epoch_recall += recall.item()\n",
    "        epoch_fscore += fscore.item()\n",
    "        \n",
    "    return (epoch_loss / len(training_data),\n",
    "            epoch_prec / len(training_data),\n",
    "            epoch_recall / len(training_data),\n",
    "            epoch_fscore / len(training_data),\n",
    "    )"
   ]
  },
  {
   "cell_type": "code",
   "execution_count": 27,
   "metadata": {},
   "outputs": [],
   "source": [
    "def evaluate(model, testing_data, criterion):\n",
    "    \n",
    "    epoch_loss = 0\n",
    "    epoch_prec = 0\n",
    "    epoch_recall = 0\n",
    "    epoch_fscore = 0\n",
    "\n",
    "    model.eval()\n",
    "\n",
    "    with torch.no_grad():\n",
    "        \n",
    "        for sentence, tags in testing_data:\n",
    "            \n",
    "            sentence_in = prepare_sequence(sentence, word_vocab)\n",
    "            targets = prepare_sequence(tags, label_vocab)\n",
    "            \n",
    "            tag_scores = model(sentence_in)\n",
    "            loss = criterion(tag_scores, targets)\n",
    "            \n",
    "            prec, recall, fscore = class_performance(tag_scores, targets)\n",
    "\n",
    "            epoch_loss += loss.item()\n",
    "            epoch_prec += prec.item()\n",
    "            epoch_recall += recall.item()\n",
    "            epoch_fscore += fscore.item()\n",
    "        \n",
    "    return (\n",
    "        epoch_loss / len(test_data),\n",
    "        epoch_prec / len(test_data),\n",
    "        epoch_recall / len(test_data),\n",
    "        epoch_fscore / len(test_data),\n",
    "    )"
   ]
  },
  {
   "cell_type": "code",
   "execution_count": 28,
   "metadata": {},
   "outputs": [],
   "source": [
    "import time\n",
    "\n",
    "def epoch_time(start_time, end_time):\n",
    "    elapsed_time = end_time - start_time\n",
    "    elapsed_mins = int(elapsed_time / 60)\n",
    "    elapsed_secs = int(elapsed_time - (elapsed_mins * 60))\n",
    "    return elapsed_mins, elapsed_secs"
   ]
  },
  {
   "cell_type": "code",
   "execution_count": 29,
   "metadata": {},
   "outputs": [],
   "source": [
    "# for epoch in range(5):\n",
    "#     print(\"Current epoch: \")\n",
    "    \n",
    "    \n",
    "    \n",
    "#     for sentence, tags in training_data:\n",
    "#         model.zero_grad()\n",
    "        \n",
    "#         sentence_in = prepare_sequence(sentence, word_vocab)\n",
    "#         targets = prepare_sequence(tags, label_vocab)\n",
    "\n",
    "#         tag_scores = model(sentence_in)\n",
    "\n",
    "#         loss = loss_function(tag_scores, targets)\n",
    "#         loss.backward()\n",
    "#         optimizer.step()\n"
   ]
  },
  {
   "cell_type": "code",
   "execution_count": 30,
   "metadata": {},
   "outputs": [
    {
     "name": "stderr",
     "output_type": "stream",
     "text": [
      "E:\\Egyetem\\Anaconda_python\\lib\\site-packages\\sklearn\\metrics\\_classification.py:1221: UndefinedMetricWarning: Precision and F-score are ill-defined and being set to 0.0 in labels with no predicted samples. Use `zero_division` parameter to control this behavior.\n",
      "  _warn_prf(average, modifier, msg_start, len(result))\n",
      "E:\\Egyetem\\Anaconda_python\\lib\\site-packages\\sklearn\\metrics\\_classification.py:1221: UndefinedMetricWarning: Recall and F-score are ill-defined and being set to 0.0 in labels with no true samples. Use `zero_division` parameter to control this behavior.\n",
      "  _warn_prf(average, modifier, msg_start, len(result))\n"
     ]
    },
    {
     "name": "stdout",
     "output_type": "stream",
     "text": [
      "Epoch: 01 | Epoch Time: 2m 45s\n",
      "\tTrain Loss: 0.836 | Train Prec: 98.13% | Train Rec: 78.75% | Train Fscore: 85.93%\n",
      "\t Val. Loss: 0.792 |  Val Prec: 98.26% | Val Rec: 79.17% | Val Fscore: 86.27%\n",
      "Epoch: 02 | Epoch Time: 2m 47s\n",
      "\tTrain Loss: 0.691 | Train Prec: 97.91% | Train Rec: 81.45% | Train Fscore: 87.72%\n",
      "\t Val. Loss: 0.715 |  Val Prec: 97.55% | Val Rec: 81.68% | Val Fscore: 87.69%\n",
      "Epoch: 03 | Epoch Time: 2m 46s\n",
      "\tTrain Loss: 0.614 | Train Prec: 97.57% | Train Rec: 84.29% | Train Fscore: 89.46%\n",
      "\t Val. Loss: 0.674 |  Val Prec: 96.98% | Val Rec: 83.31% | Val Fscore: 88.53%\n",
      "Epoch: 04 | Epoch Time: 2m 42s\n",
      "\tTrain Loss: 0.560 | Train Prec: 97.45% | Train Rec: 86.20% | Train Fscore: 90.64%\n",
      "\t Val. Loss: 0.646 |  Val Prec: 96.57% | Val Rec: 84.25% | Val Fscore: 88.96%\n",
      "Epoch: 05 | Epoch Time: 2m 40s\n",
      "\tTrain Loss: 0.519 | Train Prec: 97.41% | Train Rec: 87.73% | Train Fscore: 91.60%\n",
      "\t Val. Loss: 0.626 |  Val Prec: 95.98% | Val Rec: 84.64% | Val Fscore: 88.99%\n",
      "Epoch: 06 | Epoch Time: 2m 44s\n",
      "\tTrain Loss: 0.486 | Train Prec: 97.55% | Train Rec: 89.00% | Train Fscore: 92.43%\n",
      "\t Val. Loss: 0.612 |  Val Prec: 95.24% | Val Rec: 84.98% | Val Fscore: 88.90%\n",
      "Epoch: 07 | Epoch Time: 2m 42s\n",
      "\tTrain Loss: 0.457 | Train Prec: 97.67% | Train Rec: 90.11% | Train Fscore: 93.16%\n",
      "\t Val. Loss: 0.601 |  Val Prec: 94.41% | Val Rec: 85.00% | Val Fscore: 88.59%\n",
      "Epoch: 08 | Epoch Time: 2m 47s\n",
      "\tTrain Loss: 0.431 | Train Prec: 97.70% | Train Rec: 90.94% | Train Fscore: 93.67%\n",
      "\t Val. Loss: 0.593 |  Val Prec: 93.82% | Val Rec: 85.25% | Val Fscore: 88.48%\n",
      "Epoch: 09 | Epoch Time: 2m 48s\n",
      "\tTrain Loss: 0.408 | Train Prec: 97.73% | Train Rec: 91.62% | Train Fscore: 94.09%\n",
      "\t Val. Loss: 0.586 |  Val Prec: 92.77% | Val Rec: 84.77% | Val Fscore: 87.75%\n",
      "Epoch: 10 | Epoch Time: 2m 48s\n",
      "\tTrain Loss: 0.387 | Train Prec: 97.76% | Train Rec: 92.23% | Train Fscore: 94.47%\n",
      "\t Val. Loss: 0.579 |  Val Prec: 92.63% | Val Rec: 85.14% | Val Fscore: 87.90%\n",
      "Epoch: 11 | Epoch Time: 2m 57s\n",
      "\tTrain Loss: 0.368 | Train Prec: 97.85% | Train Rec: 92.83% | Train Fscore: 94.86%\n",
      "\t Val. Loss: 0.572 |  Val Prec: 92.45% | Val Rec: 85.59% | Val Fscore: 88.08%\n",
      "Epoch: 12 | Epoch Time: 2m 39s\n",
      "\tTrain Loss: 0.351 | Train Prec: 97.90% | Train Rec: 93.37% | Train Fscore: 95.21%\n",
      "\t Val. Loss: 0.565 |  Val Prec: 92.66% | Val Rec: 86.14% | Val Fscore: 88.50%\n",
      "Epoch: 13 | Epoch Time: 3m 17s\n",
      "\tTrain Loss: 0.334 | Train Prec: 97.96% | Train Rec: 93.83% | Train Fscore: 95.50%\n",
      "\t Val. Loss: 0.558 |  Val Prec: 92.63% | Val Rec: 86.41% | Val Fscore: 88.62%\n",
      "Epoch: 14 | Epoch Time: 2m 57s\n",
      "\tTrain Loss: 0.317 | Train Prec: 98.00% | Train Rec: 94.21% | Train Fscore: 95.75%\n",
      "\t Val. Loss: 0.549 |  Val Prec: 92.81% | Val Rec: 86.86% | Val Fscore: 88.94%\n",
      "Epoch: 15 | Epoch Time: 2m 56s\n",
      "\tTrain Loss: 0.301 | Train Prec: 98.06% | Train Rec: 94.63% | Train Fscore: 96.02%\n",
      "\t Val. Loss: 0.542 |  Val Prec: 92.72% | Val Rec: 86.99% | Val Fscore: 88.97%\n"
     ]
    }
   ],
   "source": [
    "N_EPOCHS = 15\n",
    "\n",
    "best_valid_loss = float('inf')\n",
    "\n",
    "for epoch in range(N_EPOCHS):\n",
    "\n",
    "    start_time = time.time()\n",
    "    \n",
    "    train_loss, train_prec, train_rec, train_fscore = train(model, training_data, loss_function)\n",
    "    \n",
    "    valid_loss, valid_prec, valid_rec, valid_fscore = evaluate(model, testing_data, loss_function)\n",
    "    \n",
    "    end_time = time.time()\n",
    "\n",
    "    epoch_mins, epoch_secs = epoch_time(start_time, end_time)\n",
    "    \n",
    "    print(f\"Epoch: {epoch+1:02} | Epoch Time: {epoch_mins}m {epoch_secs}s\")\n",
    "    print(f\"\\tTrain Loss: {train_loss:.3f} | Train Prec: {train_prec*100:.2f}% | Train Rec: {train_rec*100:.2f}% | Train Fscore: {train_fscore*100:.2f}%\")\n",
    "    print(f\"\\t Val. Loss: {valid_loss:.3f} |  Val Prec: {valid_prec*100:.2f}% | Val Rec: {valid_rec*100:.2f}% | Val Fscore: {valid_fscore*100:.2f}%\")"
   ]
  },
  {
   "cell_type": "code",
   "execution_count": 64,
   "metadata": {
    "scrolled": true
   },
   "outputs": [
    {
     "name": "stdout",
     "output_type": "stream",
     "text": [
      "['ST', 'LOUIS', 'AT', 'CHICAGO']\n",
      "['B-ORG', 'I-ORG', 'O', 'B-LOC']\n"
     ]
    }
   ],
   "source": [
    "sent_num = 565\n",
    "print(testing_data[sent_num][0])\n",
    "print(testing_data[sent_num][1])"
   ]
  },
  {
   "cell_type": "code",
   "execution_count": 66,
   "metadata": {},
   "outputs": [
    {
     "name": "stdout",
     "output_type": "stream",
     "text": [
      "tensor([1, 6, 0, 5])\n",
      "tensor([1, 0, 0, 0])\n"
     ]
    }
   ],
   "source": [
    "with torch.no_grad():\n",
    "    inputs = prepare_sequence(testing_data[sent_num][1], label_vocab)\n",
    "    tag_scores = model(inputs)\n",
    "    prediction = tag_scores.argmax(1)\n",
    "\n",
    "    print(inputs)\n",
    "    ## print(tag_scores)\n",
    "    print(prediction)"
   ]
  },
  {
   "cell_type": "code",
   "execution_count": null,
   "metadata": {},
   "outputs": [],
   "source": []
  }
 ],
 "metadata": {
  "kernelspec": {
   "display_name": "Python 3",
   "language": "python",
   "name": "python3"
  },
  "language_info": {
   "codemirror_mode": {
    "name": "ipython",
    "version": 3
   },
   "file_extension": ".py",
   "mimetype": "text/x-python",
   "name": "python",
   "nbconvert_exporter": "python",
   "pygments_lexer": "ipython3",
   "version": "3.8.5"
  }
 },
 "nbformat": 4,
 "nbformat_minor": 4
}
