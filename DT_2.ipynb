{
 "cells": [
  {
   "cell_type": "markdown",
   "metadata": {},
   "source": [
    "\n",
    "# Diploma Thesis -- Gálfi András\n"
   ]
  },
  {
   "cell_type": "markdown",
   "metadata": {},
   "source": [
    "\n",
    "## Task: Named Entity Recognition (_A Natural Language Processing task_)\n"
   ]
  },
  {
   "cell_type": "markdown",
   "metadata": {},
   "source": [
    "\n",
    "### _Step 1_: Import in all the necesssary libraries\n",
    "\n",
    "   (there can be imports later in this notebook, up here these are the ones usually needed for an NLP task)"
   ]
  },
  {
   "cell_type": "code",
   "execution_count": 1,
   "metadata": {},
   "outputs": [
    {
     "data": {
      "text/html": [
       "<style>.container { width:60% !important; }</style>"
      ],
      "text/plain": [
       "<IPython.core.display.HTML object>"
      ]
     },
     "metadata": {},
     "output_type": "display_data"
    }
   ],
   "source": [
    "from IPython.core.display import display, HTML\n",
    "display(HTML(\"<style>.container { width:60% !important; }</style>\"))\n",
    "%config IPCompleter.greedy=True"
   ]
  },
  {
   "cell_type": "code",
   "execution_count": 2,
   "metadata": {},
   "outputs": [
    {
     "name": "stdout",
     "output_type": "stream",
     "text": [
      "Populating the interactive namespace from numpy and matplotlib\n"
     ]
    }
   ],
   "source": [
    "import pandas as pd\n",
    "import numpy as np\n",
    "from matplotlib import pyplot as plt\n",
    "%pylab inline\n",
    "import tensorflow as tf\n",
    "import re\n",
    "from pathlib import Path"
   ]
  },
  {
   "cell_type": "code",
   "execution_count": 3,
   "metadata": {},
   "outputs": [],
   "source": [
    "import torch\n",
    "from torch import nn\n",
    "import torch.optim as optim\n",
    "from sklearn.model_selection import train_test_split as split\n",
    "from torch.utils.data import DataLoader"
   ]
  },
  {
   "cell_type": "code",
   "execution_count": 4,
   "metadata": {},
   "outputs": [],
   "source": [
    "import torch.nn.functional as F"
   ]
  },
  {
   "cell_type": "markdown",
   "metadata": {},
   "source": [
    "\n",
    "### _Step 2_: Import the data\n",
    "\n",
    "   We need data because we want to use a neural network for this task and it needs the dataset for learning."
   ]
  },
  {
   "cell_type": "markdown",
   "metadata": {},
   "source": [
    "\n",
    "#### _Function_ read_and_sentence:\n",
    "\n",
    "   Divide the given file into two datasets, *words* and *labels*:\n",
    "   "
   ]
  },
  {
   "cell_type": "code",
   "execution_count": 5,
   "metadata": {},
   "outputs": [],
   "source": [
    "def read_and_sentence(file_path):\n",
    "    file_path = Path(file_path)\n",
    "    \n",
    "    raw_text = file_path.read_text().strip()\n",
    "    raw_sentences = re.split(r'\\n\\t?\\n', raw_text)\n",
    "    \n",
    "    sentence_tokens = []\n",
    "    sentence_tags = []\n",
    "    \n",
    "    for sents in raw_sentences:\n",
    "        tokens = []\n",
    "        tags = []\n",
    "        \n",
    "        for line in sents.split('\\n'):\n",
    "            token = line.split()[0]\n",
    "            tag = line.split()[3]\n",
    "            \n",
    "            tokens.append(token)\n",
    "            # tags.append(entity_to_number[tag])\n",
    "            tags.append(tag)\n",
    "            \n",
    "        sentence_tokens.append(tokens)\n",
    "        sentence_tags.append(tags)\n",
    "    \n",
    "    return sentence_tokens, sentence_tags"
   ]
  },
  {
   "cell_type": "code",
   "execution_count": 6,
   "metadata": {},
   "outputs": [],
   "source": [
    "train_data_full, train_tags_full = read_and_sentence('E:\\Egyetem\\Diplomaterv\\data\\conllpp_train.txt')\n",
    "dev_data_full, dev_tags_full = read_and_sentence('E:\\Egyetem\\Diplomaterv\\data\\conllpp_dev.txt')\n",
    "test_data_full, test_tags_full = read_and_sentence('E:\\Egyetem\\Diplomaterv\\data\\conllpp_test.txt')"
   ]
  },
  {
   "cell_type": "code",
   "execution_count": 7,
   "metadata": {
    "scrolled": true
   },
   "outputs": [
    {
     "data": {
      "text/plain": [
       "[['-DOCSTART-'],\n",
       " ['EU', 'rejects', 'German', 'call', 'to', 'boycott', 'British', 'lamb', '.'],\n",
       " ['Peter', 'Blackburn'],\n",
       " ['BRUSSELS', '1996-08-22'],\n",
       " ['The',\n",
       "  'European',\n",
       "  'Commission',\n",
       "  'said',\n",
       "  'on',\n",
       "  'Thursday',\n",
       "  'it',\n",
       "  'disagreed',\n",
       "  'with',\n",
       "  'German',\n",
       "  'advice',\n",
       "  'to',\n",
       "  'consumers',\n",
       "  'to',\n",
       "  'shun',\n",
       "  'British',\n",
       "  'lamb',\n",
       "  'until',\n",
       "  'scientists',\n",
       "  'determine',\n",
       "  'whether',\n",
       "  'mad',\n",
       "  'cow',\n",
       "  'disease',\n",
       "  'can',\n",
       "  'be',\n",
       "  'transmitted',\n",
       "  'to',\n",
       "  'sheep',\n",
       "  '.']]"
      ]
     },
     "execution_count": 7,
     "metadata": {},
     "output_type": "execute_result"
    }
   ],
   "source": [
    "train_data_full[:5]"
   ]
  },
  {
   "cell_type": "markdown",
   "metadata": {},
   "source": [
    "\n",
    "### _Step 3_: Prepare the data\n",
    "\n",
    "In their current form the datasets can't be used for teaching. We need to prepare the data and make it understandable for the neural network."
   ]
  },
  {
   "cell_type": "markdown",
   "metadata": {},
   "source": [
    "This cell I modified the size of the datasets. I used it when I tested the whole project and it was more practical to use smaller datasets."
   ]
  },
  {
   "cell_type": "code",
   "execution_count": 8,
   "metadata": {},
   "outputs": [],
   "source": [
    "## train_data = train_data_full[:4000]\n",
    "## train_tags = train_tags_full[:4000]\n",
    "\n",
    "## dev_data = dev_data_full[:1000]\n",
    "## dev_tags = dev_tags_full[:1000]\n",
    "\n",
    "## test_data = test_data_full[:1000]\n",
    "## test_tags = test_tags_full[:1000]\n",
    "\n",
    "train_data = train_data_full\n",
    "train_tags = train_tags_full\n",
    "\n",
    "dev_data = dev_data_full\n",
    "dev_tags = dev_tags_full\n",
    "\n",
    "test_data = test_data_full\n",
    "test_tags = test_tags_full"
   ]
  },
  {
   "cell_type": "markdown",
   "metadata": {},
   "source": [
    "\n",
    "#### Create vocabularies:\n",
    "\n",
    "1. turn the datasets (list of lists) into a list\n",
    "2. _function_ create_vocab:\n",
    "    1. selecting the unique members of the list\n",
    "    2. giving every unique element a number to represent it\n",
    "3. two vocab is needed:\n",
    "    1. one for the words --> *word_vocab*\n",
    "    2. one for the labels --> *label_vocab*\n",
    "\n",
    "# (*TODO: more sophisticated vocab*)"
   ]
  },
  {
   "cell_type": "code",
   "execution_count": 9,
   "metadata": {},
   "outputs": [],
   "source": [
    "from keras.preprocessing.text import hashing_trick\n",
    "from keras.preprocessing.text import text_to_word_sequence"
   ]
  },
  {
   "cell_type": "code",
   "execution_count": 10,
   "metadata": {},
   "outputs": [],
   "source": [
    "tr_words = [i for sublist in train_data for i in sublist]\n",
    "dv_words = [i for sublist in dev_data for i in sublist]\n",
    "tst_words = [i for sublist in test_data for i in sublist]\n",
    "\n",
    "tr_tags = [i for sublist in train_tags for i in sublist]\n",
    "dv_tags = [i for sublist in dev_tags for i in sublist]\n",
    "tst_tags = [i for sublist in test_tags for i in sublist]"
   ]
  },
  {
   "cell_type": "code",
   "execution_count": 11,
   "metadata": {},
   "outputs": [
    {
     "data": {
      "text/plain": [
       "30290"
      ]
     },
     "execution_count": 11,
     "metadata": {},
     "output_type": "execute_result"
    }
   ],
   "source": [
    "words = set(tr_words + dv_words + tst_words)\n",
    "vocab_size = len(words)\n",
    "vocab_size"
   ]
  },
  {
   "cell_type": "code",
   "execution_count": 12,
   "metadata": {},
   "outputs": [],
   "source": [
    "from keras.preprocessing.text import Tokenizer"
   ]
  },
  {
   "cell_type": "code",
   "execution_count": 13,
   "metadata": {},
   "outputs": [],
   "source": [
    "t = Tokenizer()\n",
    "t.fit_on_texts(tr_words + dv_words + tst_words)"
   ]
  },
  {
   "cell_type": "code",
   "execution_count": 1,
   "metadata": {},
   "outputs": [],
   "source": [
    "## print(t.word_counts)\n",
    "## print(t.document_count)\n",
    "## print(t.word_docs)\n",
    "\n",
    "## word_vocab = t.word_index\n",
    "\n",
    "## print(t.word_index)"
   ]
  },
  {
   "cell_type": "code",
   "execution_count": 15,
   "metadata": {},
   "outputs": [],
   "source": [
    "def create_vocab(word_list):\n",
    "    unique_list = []\n",
    "    vocab = {}\n",
    "    \n",
    "    for val in word_list:\n",
    "        if val not in unique_list:\n",
    "            unique_list.append(val)\n",
    "            \n",
    "    for i, l in enumerate(unique_list):\n",
    "        vocab[l] = i\n",
    "    return vocab"
   ]
  },
  {
   "cell_type": "code",
   "execution_count": 16,
   "metadata": {},
   "outputs": [],
   "source": [
    "word_vocab = create_vocab(tr_words + dv_words + tst_words)"
   ]
  },
  {
   "cell_type": "code",
   "execution_count": 17,
   "metadata": {},
   "outputs": [],
   "source": [
    "label_vocab = create_vocab(tr_tags+dv_tags+tst_tags)"
   ]
  },
  {
   "cell_type": "code",
   "execution_count": 18,
   "metadata": {},
   "outputs": [
    {
     "name": "stdout",
     "output_type": "stream",
     "text": [
      "9\n"
     ]
    },
    {
     "data": {
      "text/plain": [
       "{'O': 0,\n",
       " 'B-ORG': 1,\n",
       " 'B-MISC': 2,\n",
       " 'B-PER': 3,\n",
       " 'I-PER': 4,\n",
       " 'B-LOC': 5,\n",
       " 'I-ORG': 6,\n",
       " 'I-MISC': 7,\n",
       " 'I-LOC': 8}"
      ]
     },
     "execution_count": 18,
     "metadata": {},
     "output_type": "execute_result"
    }
   ],
   "source": [
    "print(len(label_vocab))\n",
    "label_vocab"
   ]
  },
  {
   "cell_type": "code",
   "execution_count": 19,
   "metadata": {},
   "outputs": [
    {
     "data": {
      "text/plain": [
       "30290"
      ]
     },
     "execution_count": 19,
     "metadata": {},
     "output_type": "execute_result"
    }
   ],
   "source": [
    "len(word_vocab)"
   ]
  },
  {
   "cell_type": "markdown",
   "metadata": {},
   "source": [
    "\n",
    "#### *Function* check_similar_label_length:\n",
    "\n",
    "Check the longest streak of similar labels in the dataset.\n",
    "(I used this function only to get to know the data a little better)"
   ]
  },
  {
   "cell_type": "code",
   "execution_count": 20,
   "metadata": {},
   "outputs": [],
   "source": [
    "def check_similar_label_length(data):\n",
    "    current_label = 'O'\n",
    "    current_length = 0\n",
    "    longest_similar_length = 0\n",
    "    longest_label = 'O'\n",
    "    \n",
    "    for sentence in data:\n",
    "        current_label = 'O'\n",
    "        current_length = 0\n",
    "        \n",
    "        for i in sentence:\n",
    "            if i == 'O':\n",
    "                if current_length > longest_similar_length:\n",
    "                    longest_similar_length = current_length\n",
    "                    longest_label = current_label\n",
    "                    \n",
    "                current_label = 'O'\n",
    "                current_length = 0\n",
    "                \n",
    "            elif i != current_label:\n",
    "                \n",
    "                if current_length > longest_similar_length:\n",
    "                    longest_similar_length = current_length\n",
    "                    longest_label = current_label\n",
    "                \n",
    "                current_label = i\n",
    "                current_length = 1\n",
    "            \n",
    "            else:\n",
    "                current_length += 1\n",
    "    return longest_similar_length, longest_label\n",
    "                \n",
    "        "
   ]
  },
  {
   "cell_type": "code",
   "execution_count": 21,
   "metadata": {},
   "outputs": [
    {
     "name": "stdout",
     "output_type": "stream",
     "text": [
      "(9, 'I-ORG')\n",
      "(9, 'I-ORG')\n",
      "(5, 'I-MISC')\n"
     ]
    }
   ],
   "source": [
    "print(check_similar_label_length(train_tags))\n",
    "print(check_similar_label_length(dev_tags))\n",
    "print(check_similar_label_length(test_tags))"
   ]
  },
  {
   "cell_type": "markdown",
   "metadata": {},
   "source": [
    "### check_label_order function:\n",
    "\n",
    "This function is checking whether there is an appropiate B-xxx tag in fornt of each I-xxx sequence"
   ]
  },
  {
   "cell_type": "code",
   "execution_count": 22,
   "metadata": {},
   "outputs": [],
   "source": [
    "def check_label_order(data): \n",
    "    for sentence in data:\n",
    "        if 'I-PER' in sentence:\n",
    "            if 'B-PER' not in sentence:\n",
    "                return False, sentence\n",
    "        \n",
    "        if 'I-ORG' in sentence:\n",
    "            if 'B-ORG' not in sentence:\n",
    "                return False, sentence\n",
    "        \n",
    "        if 'I-MISC' in sentence:\n",
    "            if 'B-MISC' not in sentence:\n",
    "                return False, sentence\n",
    "            \n",
    "        if 'I-LOC' in sentence:\n",
    "            if 'B-LOC' not in sentence:\n",
    "                return False, sentence\n",
    "            \n",
    "        \n",
    "        for i, j in enumerate(sentence[:-1]):\n",
    "            if sentence[i + 1] ==  'I-PER':\n",
    "                    if sentence[i] != 'I-PER' and sentence[i] != 'B-PER':\n",
    "                        return False, sentence\n",
    "            if sentence[i + 1] ==  'I-ORG':\n",
    "                    if sentence[i] != 'I-ORG' and sentence[i] != 'B-ORG':\n",
    "                        return False, sentence\n",
    "            if sentence[i + 1] ==  'I-MISC':\n",
    "                    if sentence[i] != 'I-MISC' and sentence[i] != 'B-MISC':\n",
    "                        return False, sentence\n",
    "            if sentence[i + 1] ==  'I-LOC':\n",
    "                    if sentence[i] != 'I-LOC' and sentence[i] != 'B-LOC':\n",
    "                        return False, sentence\n",
    "    return True"
   ]
  },
  {
   "cell_type": "code",
   "execution_count": 23,
   "metadata": {},
   "outputs": [
    {
     "name": "stdout",
     "output_type": "stream",
     "text": [
      "True\n",
      "True\n",
      "True\n"
     ]
    }
   ],
   "source": [
    "print(check_label_order(train_tags))\n",
    "print(check_label_order(dev_tags))\n",
    "print(check_label_order(test_tags))"
   ]
  },
  {
   "cell_type": "markdown",
   "metadata": {},
   "source": [
    "This cell makes tuples from the words and the tags."
   ]
  },
  {
   "cell_type": "code",
   "execution_count": 24,
   "metadata": {},
   "outputs": [],
   "source": [
    "training_data = list(zip(train_data, train_tags))\n",
    "testing_data = list(zip(test_data, test_tags))"
   ]
  },
  {
   "cell_type": "markdown",
   "metadata": {},
   "source": [
    "#### Function _prepare_sequence_:\n",
    "Parameters:\n",
    "- seq: a list of elements, this case it is a sentence\n",
    "- to_ix: a vocabulary that contains the elements of the seq\n",
    "\n",
    "The function assigns a number for every element of the sequence (according to the vocab). And returns it in a torch.tensor.long format."
   ]
  },
  {
   "cell_type": "code",
   "execution_count": 25,
   "metadata": {},
   "outputs": [],
   "source": [
    "def prepare_sequence(seq, to_ix):\n",
    "    idxs = [to_ix[w] for w in seq]\n",
    "    return torch.tensor(idxs, dtype=torch.long)"
   ]
  },
  {
   "cell_type": "code",
   "execution_count": 26,
   "metadata": {},
   "outputs": [
    {
     "data": {
      "text/plain": [
       "['O', 'O', 'B-LOC', 'O', 'O', 'O', 'O', 'B-LOC', 'O', 'O', 'O', 'O']"
      ]
     },
     "execution_count": 26,
     "metadata": {},
     "output_type": "execute_result"
    }
   ],
   "source": [
    "testing_data[1][1]"
   ]
  },
  {
   "cell_type": "markdown",
   "metadata": {},
   "source": [
    "\n",
    "### Step 4: Neural Network\n",
    "\n",
    "Now that the data is ready the only thing remains is the Neural Network.\n"
   ]
  },
  {
   "cell_type": "markdown",
   "metadata": {},
   "source": [
    "First there are a a few global parameters that need to be assigned."
   ]
  },
  {
   "cell_type": "code",
   "execution_count": 27,
   "metadata": {},
   "outputs": [],
   "source": [
    "VOCAB_SIZE = len(word_vocab)\n",
    "OUT_DIM = len(label_vocab)\n",
    "EMBED_DIM = 64\n",
    "HIDDEN_DIM = 32\n",
    "learning_rate = 0.01\n",
    "\n",
    "BATCH_SIZE = 256\n",
    "device = torch.device('cuda' if torch.cuda.is_available() else 'cpu')"
   ]
  },
  {
   "cell_type": "markdown",
   "metadata": {},
   "source": [
    "This is the cell, where the model is defined.\n",
    "\n",
    "# (*TODO: more sophisticated model*)"
   ]
  },
  {
   "cell_type": "code",
   "execution_count": 28,
   "metadata": {},
   "outputs": [],
   "source": [
    "class LSTMTagger(nn.Module):\n",
    "\n",
    "    def __init__(self, embedding_dim, hidden_dim, vocab_size, tagset_size):\n",
    "        super(LSTMTagger, self).__init__()\n",
    "        self.hidden_dim = hidden_dim\n",
    "\n",
    "        self.word_embeddings = nn.Embedding(vocab_size, embedding_dim)\n",
    "\n",
    "        self.lstm = nn.LSTM(embedding_dim, hidden_dim)\n",
    "\n",
    "        self.hidden2tag = nn.Linear(hidden_dim, tagset_size)\n",
    "\n",
    "    def forward(self, sentence):\n",
    "        embeds = self.word_embeddings(sentence)\n",
    "        lstm_out, _ = self.lstm(embeds.view(len(sentence), 1, -1))\n",
    "        tag_space = self.hidden2tag(lstm_out.view(len(sentence), -1))\n",
    "        tag_scores = F.log_softmax(tag_space, dim=1)\n",
    "        return tag_scores"
   ]
  },
  {
   "cell_type": "markdown",
   "metadata": {},
   "source": [
    "The model, loss and optimizer are defined here. The model is assigned for the class created in the previous cell."
   ]
  },
  {
   "cell_type": "code",
   "execution_count": 29,
   "metadata": {},
   "outputs": [],
   "source": [
    "model = LSTMTagger(EMBED_DIM, HIDDEN_DIM, VOCAB_SIZE, OUT_DIM)\n",
    "\n",
    "loss_function = nn.NLLLoss()\n",
    "optimizer = optim.SGD(model.parameters(), lr=learning_rate)"
   ]
  },
  {
   "cell_type": "code",
   "execution_count": 30,
   "metadata": {},
   "outputs": [],
   "source": [
    "# with torch.no_grad():\n",
    "#     inputs = prepare_sequence(training_data[1][0], word_vocab)\n",
    "#     tag_scores = model(inputs)\n",
    "#     print(tag_scores)"
   ]
  },
  {
   "cell_type": "markdown",
   "metadata": {},
   "source": [
    "#### Function *class_performance*:\n",
    "\n",
    "This function helps evaluate the results."
   ]
  },
  {
   "cell_type": "code",
   "execution_count": 31,
   "metadata": {},
   "outputs": [],
   "source": [
    "from sklearn.metrics import precision_recall_fscore_support\n",
    "\n",
    "def class_performance(preds, y):\n",
    "\n",
    "    rounded_preds = preds.argmax(1)\n",
    "\n",
    "    precision, recall, fscore, support = precision_recall_fscore_support(\n",
    "        rounded_preds.cpu(), y.cpu()\n",
    "    )\n",
    "\n",
    "    return precision[0], recall[0], fscore[0]"
   ]
  },
  {
   "cell_type": "markdown",
   "metadata": {},
   "source": [
    "### This is the part where the training is defined."
   ]
  },
  {
   "cell_type": "code",
   "execution_count": 32,
   "metadata": {},
   "outputs": [],
   "source": [
    "def train(model, training_data, criterion):\n",
    "    \n",
    "    epoch_loss = 0\n",
    "    epoch_prec = 0\n",
    "    epoch_recall = 0\n",
    "    epoch_fscore = 0\n",
    "    \n",
    "    model.train()\n",
    "    \n",
    "    for sentence, tags in training_data:\n",
    "        \n",
    "        model.zero_grad()\n",
    "        \n",
    "        sentence_in = prepare_sequence(sentence, word_vocab)\n",
    "        targets = prepare_sequence(tags, label_vocab)\n",
    "        \n",
    "        tag_scores = model(sentence_in)\n",
    "\n",
    "        loss = criterion(tag_scores, targets)\n",
    "        prec, recall, fscore = class_performance(tag_scores, targets)\n",
    "\n",
    "        loss.backward()\n",
    "        optimizer.step()\n",
    "\n",
    "        epoch_loss += loss.item()\n",
    "        epoch_prec += prec.item()\n",
    "        epoch_recall += recall.item()\n",
    "        epoch_fscore += fscore.item()\n",
    "        \n",
    "    return (epoch_loss / len(training_data),\n",
    "            epoch_prec / len(training_data),\n",
    "            epoch_recall / len(training_data),\n",
    "            epoch_fscore / len(training_data),\n",
    "    )"
   ]
  },
  {
   "cell_type": "markdown",
   "metadata": {},
   "source": [
    "### This is the part where the evaluation is defined."
   ]
  },
  {
   "cell_type": "code",
   "execution_count": 33,
   "metadata": {},
   "outputs": [],
   "source": [
    "def evaluate(model, testing_data, criterion):\n",
    "    \n",
    "    epoch_loss = 0\n",
    "    epoch_prec = 0\n",
    "    epoch_recall = 0\n",
    "    epoch_fscore = 0\n",
    "\n",
    "    model.eval()\n",
    "\n",
    "    with torch.no_grad():\n",
    "        \n",
    "        for sentence, tags in testing_data:\n",
    "            \n",
    "            sentence_in = prepare_sequence(sentence, word_vocab)\n",
    "            targets = prepare_sequence(tags, label_vocab)\n",
    "            \n",
    "            tag_scores = model(sentence_in)\n",
    "            loss = criterion(tag_scores, targets)\n",
    "            \n",
    "            prec, recall, fscore = class_performance(tag_scores, targets)\n",
    "\n",
    "            epoch_loss += loss.item()\n",
    "            epoch_prec += prec.item()\n",
    "            epoch_recall += recall.item()\n",
    "            epoch_fscore += fscore.item()\n",
    "        \n",
    "    return (\n",
    "        epoch_loss / len(test_data),\n",
    "        epoch_prec / len(test_data),\n",
    "        epoch_recall / len(test_data),\n",
    "        epoch_fscore / len(test_data),\n",
    "    )"
   ]
  },
  {
   "cell_type": "markdown",
   "metadata": {},
   "source": [
    "#### Function *epoch_time*:\n",
    "\n",
    "Shows how much time has passed since the last epoch during training."
   ]
  },
  {
   "cell_type": "code",
   "execution_count": 34,
   "metadata": {},
   "outputs": [],
   "source": [
    "import time\n",
    "\n",
    "def epoch_time(start_time, end_time):\n",
    "    elapsed_time = end_time - start_time\n",
    "    elapsed_mins = int(elapsed_time / 60)\n",
    "    elapsed_secs = int(elapsed_time - (elapsed_mins * 60))\n",
    "    return elapsed_mins, elapsed_secs"
   ]
  },
  {
   "cell_type": "code",
   "execution_count": 35,
   "metadata": {},
   "outputs": [],
   "source": [
    "# for epoch in range(5):\n",
    "#     print(\"Current epoch: \")\n",
    "    \n",
    "    \n",
    "    \n",
    "#     for sentence, tags in training_data:\n",
    "#         model.zero_grad()\n",
    "        \n",
    "#         sentence_in = prepare_sequence(sentence, word_vocab)\n",
    "#         targets = prepare_sequence(tags, label_vocab)\n",
    "\n",
    "#         tag_scores = model(sentence_in)\n",
    "\n",
    "#         loss = loss_function(tag_scores, targets)\n",
    "#         loss.backward()\n",
    "#         optimizer.step()\n"
   ]
  },
  {
   "cell_type": "markdown",
   "metadata": {},
   "source": [
    "### This is where the training and the evaluation are actually called. "
   ]
  },
  {
   "cell_type": "code",
   "execution_count": 36,
   "metadata": {
    "scrolled": true
   },
   "outputs": [
    {
     "name": "stderr",
     "output_type": "stream",
     "text": [
      "E:\\Egyetem\\Anaconda_python\\lib\\site-packages\\sklearn\\metrics\\_classification.py:1221: UndefinedMetricWarning: Precision and F-score are ill-defined and being set to 0.0 in labels with no predicted samples. Use `zero_division` parameter to control this behavior.\n",
      "  _warn_prf(average, modifier, msg_start, len(result))\n",
      "E:\\Egyetem\\Anaconda_python\\lib\\site-packages\\sklearn\\metrics\\_classification.py:1221: UndefinedMetricWarning: Recall and F-score are ill-defined and being set to 0.0 in labels with no true samples. Use `zero_division` parameter to control this behavior.\n",
      "  _warn_prf(average, modifier, msg_start, len(result))\n"
     ]
    },
    {
     "name": "stdout",
     "output_type": "stream",
     "text": [
      "Epoch: 01 | Epoch Time: 2m 26s\n",
      "\tTrain Loss: 0.842 | Train Prec: 97.94% | Train Rec: 78.50% | Train Fscore: 85.66%\n",
      "\t Val. Loss: 0.803 |  Val Prec: 98.21% | Val Rec: 78.86% | Val Fscore: 86.03%\n",
      "Epoch: 02 | Epoch Time: 2m 39s\n",
      "\tTrain Loss: 0.700 | Train Prec: 97.87% | Train Rec: 81.20% | Train Fscore: 87.52%\n",
      "\t Val. Loss: 0.730 |  Val Prec: 96.07% | Val Rec: 80.99% | Val Fscore: 86.67%\n",
      "Epoch: 03 | Epoch Time: 2m 40s\n",
      "\tTrain Loss: 0.623 | Train Prec: 97.45% | Train Rec: 83.86% | Train Fscore: 89.12%\n",
      "\t Val. Loss: 0.690 |  Val Prec: 94.91% | Val Rec: 81.99% | Val Fscore: 86.84%\n",
      "Epoch: 04 | Epoch Time: 2m 39s\n",
      "\tTrain Loss: 0.567 | Train Prec: 97.46% | Train Rec: 86.04% | Train Fscore: 90.53%\n",
      "\t Val. Loss: 0.657 |  Val Prec: 95.19% | Val Rec: 83.61% | Val Fscore: 88.00%\n",
      "Epoch: 05 | Epoch Time: 2m 49s\n",
      "\tTrain Loss: 0.523 | Train Prec: 97.62% | Train Rec: 87.77% | Train Fscore: 91.69%\n",
      "\t Val. Loss: 0.630 |  Val Prec: 95.02% | Val Rec: 84.56% | Val Fscore: 88.55%\n",
      "Epoch: 06 | Epoch Time: 2m 35s\n",
      "\tTrain Loss: 0.486 | Train Prec: 97.73% | Train Rec: 89.20% | Train Fscore: 92.63%\n",
      "\t Val. Loss: 0.608 |  Val Prec: 95.34% | Val Rec: 85.69% | Val Fscore: 89.36%\n",
      "Epoch: 07 | Epoch Time: 2m 33s\n",
      "\tTrain Loss: 0.455 | Train Prec: 97.75% | Train Rec: 90.21% | Train Fscore: 93.25%\n",
      "\t Val. Loss: 0.590 |  Val Prec: 96.07% | Val Rec: 87.13% | Val Fscore: 90.53%\n",
      "Epoch: 08 | Epoch Time: 2m 32s\n",
      "\tTrain Loss: 0.428 | Train Prec: 97.81% | Train Rec: 91.04% | Train Fscore: 93.78%\n",
      "\t Val. Loss: 0.575 |  Val Prec: 96.27% | Val Rec: 87.82% | Val Fscore: 91.01%\n",
      "Epoch: 09 | Epoch Time: 2m 30s\n",
      "\tTrain Loss: 0.404 | Train Prec: 97.81% | Train Rec: 91.70% | Train Fscore: 94.18%\n",
      "\t Val. Loss: 0.563 |  Val Prec: 96.18% | Val Rec: 88.23% | Val Fscore: 91.21%\n",
      "Epoch: 10 | Epoch Time: 2m 31s\n",
      "\tTrain Loss: 0.382 | Train Prec: 97.86% | Train Rec: 92.38% | Train Fscore: 94.60%\n",
      "\t Val. Loss: 0.553 |  Val Prec: 96.03% | Val Rec: 88.64% | Val Fscore: 91.36%\n",
      "Epoch: 11 | Epoch Time: 2m 38s\n",
      "\tTrain Loss: 0.361 | Train Prec: 97.87% | Train Rec: 92.86% | Train Fscore: 94.89%\n",
      "\t Val. Loss: 0.543 |  Val Prec: 95.96% | Val Rec: 89.03% | Val Fscore: 91.55%\n",
      "Epoch: 12 | Epoch Time: 2m 51s\n",
      "\tTrain Loss: 0.341 | Train Prec: 97.91% | Train Rec: 93.38% | Train Fscore: 95.22%\n",
      "\t Val. Loss: 0.531 |  Val Prec: 95.97% | Val Rec: 89.36% | Val Fscore: 91.75%\n",
      "Epoch: 13 | Epoch Time: 2m 55s\n",
      "\tTrain Loss: 0.322 | Train Prec: 97.94% | Train Rec: 93.86% | Train Fscore: 95.51%\n",
      "\t Val. Loss: 0.520 |  Val Prec: 95.93% | Val Rec: 89.53% | Val Fscore: 91.84%\n",
      "Epoch: 14 | Epoch Time: 2m 49s\n",
      "\tTrain Loss: 0.306 | Train Prec: 97.98% | Train Rec: 94.28% | Train Fscore: 95.77%\n",
      "\t Val. Loss: 0.512 |  Val Prec: 95.96% | Val Rec: 89.87% | Val Fscore: 92.03%\n",
      "Epoch: 15 | Epoch Time: 2m 50s\n",
      "\tTrain Loss: 0.292 | Train Prec: 98.12% | Train Rec: 94.65% | Train Fscore: 96.05%\n",
      "\t Val. Loss: 0.506 |  Val Prec: 95.89% | Val Rec: 90.04% | Val Fscore: 92.09%\n"
     ]
    }
   ],
   "source": [
    "N_EPOCHS = 15\n",
    "\n",
    "best_valid_loss = float('inf')\n",
    "\n",
    "for epoch in range(N_EPOCHS):\n",
    "\n",
    "    start_time = time.time()\n",
    "    \n",
    "    train_loss, train_prec, train_rec, train_fscore = train(model, training_data, loss_function)\n",
    "    \n",
    "    valid_loss, valid_prec, valid_rec, valid_fscore = evaluate(model, testing_data, loss_function)\n",
    "    \n",
    "    end_time = time.time()\n",
    "\n",
    "    epoch_mins, epoch_secs = epoch_time(start_time, end_time)\n",
    "    \n",
    "    print(f\"Epoch: {epoch+1:02} | Epoch Time: {epoch_mins}m {epoch_secs}s\")\n",
    "    print(f\"\\tTrain Loss: {train_loss:.3f} | Train Prec: {train_prec*100:.2f}% | Train Rec: {train_rec*100:.2f}% | Train Fscore: {train_fscore*100:.2f}%\")\n",
    "    print(f\"\\t Val. Loss: {valid_loss:.3f} |  Val Prec: {valid_prec*100:.2f}% | Val Rec: {valid_rec*100:.2f}% | Val Fscore: {valid_fscore*100:.2f}%\")"
   ]
  },
  {
   "cell_type": "code",
   "execution_count": null,
   "metadata": {},
   "outputs": [],
   "source": []
  },
  {
   "cell_type": "code",
   "execution_count": 37,
   "metadata": {
    "scrolled": false
   },
   "outputs": [
    {
     "name": "stdout",
     "output_type": "stream",
     "text": [
      "['West', 'Indies', 'captain', 'Courtney', 'Walsh', 'elected', 'to', 'bat', 'after', 'winning', 'the', 'toss', 'in', 'the', 'first', 'match', 'in', 'the', 'World', 'Series', 'limited', 'overs', 'competition', 'against', 'Australia', 'at', 'the', 'Melbourne', 'Cricket', 'Ground', 'on', 'Friday', '.']\n",
      "['B-LOC', 'I-LOC', 'O', 'B-PER', 'I-PER', 'O', 'O', 'O', 'O', 'O', 'O', 'O', 'O', 'O', 'O', 'O', 'O', 'O', 'B-MISC', 'I-MISC', 'O', 'O', 'O', 'O', 'B-LOC', 'O', 'O', 'B-LOC', 'I-LOC', 'I-LOC', 'O', 'O', 'O']\n"
     ]
    }
   ],
   "source": [
    "sent_num = 337\n",
    "print(testing_data[sent_num][0])\n",
    "print(testing_data[sent_num][1])"
   ]
  },
  {
   "cell_type": "code",
   "execution_count": 38,
   "metadata": {},
   "outputs": [
    {
     "name": "stdout",
     "output_type": "stream",
     "text": [
      "tensor([ 1063, 13963,  2753, 13972, 13973,  8730,     5,  2313,   119,  3117,\n",
      "           40, 14772,   236,    40,  1394,  1908,   236,    40,  1787,  1788,\n",
      "         3703,  3704,  1578,   788,  1832,   156,    40,  9889, 12910, 27289,\n",
      "           18,  1162,     9])\n",
      "tensor([5, 0, 0, 0, 0, 0, 0, 0, 0, 0, 0, 0, 0, 0, 0, 0, 0, 0, 2, 7, 7, 7, 0, 0,\n",
      "        5, 0, 0, 0, 0, 0, 0, 0, 0])\n"
     ]
    }
   ],
   "source": [
    "with torch.no_grad():\n",
    "    inputs = prepare_sequence(testing_data[sent_num][0], word_vocab)\n",
    "    tag_scores = model(inputs)\n",
    "    prediction = tag_scores.argmax(1)\n",
    "\n",
    "    print(inputs)\n",
    "    ## print(tag_scores)\n",
    "    print(prediction)"
   ]
  },
  {
   "cell_type": "code",
   "execution_count": 39,
   "metadata": {},
   "outputs": [
    {
     "name": "stdout",
     "output_type": "stream",
     "text": [
      "              precision    recall  f1-score   support\n",
      "\n",
      "           0       0.98      0.91      0.94     41292\n",
      "           1       0.30      0.54      0.38       932\n",
      "           2       0.26      0.51      0.34       372\n",
      "           3       0.31      0.61      0.41       839\n",
      "           4       0.30      0.62      0.41       562\n",
      "           5       0.66      0.58      0.62      1853\n",
      "           6       0.29      0.44      0.35       574\n",
      "           7       0.36      0.64      0.46       143\n",
      "           8       0.27      0.71      0.39        99\n",
      "\n",
      "    accuracy                           0.87     46666\n",
      "   macro avg       0.41      0.62      0.48     46666\n",
      "weighted avg       0.91      0.87      0.89     46666\n",
      "\n"
     ]
    }
   ],
   "source": [
    "from sklearn.metrics import classification_report\n",
    "\n",
    "out_sent = []\n",
    "out_lab = []\n",
    "with torch.no_grad():\n",
    "    for sentence, tags in testing_data:\n",
    "        sent = prepare_sequence(sentence, word_vocab)\n",
    "        sent_tag_scores = model(sent)\n",
    "        predict = sent_tag_scores.argmax(1)\n",
    "        \n",
    "        label = prepare_sequence(tags, label_vocab)\n",
    "        \n",
    "        out_sent.append(predict.tolist())\n",
    "        out_lab.append(label.tolist())\n",
    "        \n",
    "    out_sent = [item for sublists in out_sent for item in sublists]\n",
    "    out_lab = [item for sublists in out_lab for item in sublists]\n",
    "        \n",
    "    ## print(out_sent)\n",
    "    ## print(out_lab)\n",
    "        \n",
    "    print(classification_report(out_sent, out_lab))\n",
    "    \n",
    "        "
   ]
  },
  {
   "cell_type": "code",
   "execution_count": null,
   "metadata": {},
   "outputs": [],
   "source": []
  }
 ],
 "metadata": {
  "kernelspec": {
   "display_name": "Python 3",
   "language": "python",
   "name": "python3"
  },
  "language_info": {
   "codemirror_mode": {
    "name": "ipython",
    "version": 3
   },
   "file_extension": ".py",
   "mimetype": "text/x-python",
   "name": "python",
   "nbconvert_exporter": "python",
   "pygments_lexer": "ipython3",
   "version": "3.8.5"
  }
 },
 "nbformat": 4,
 "nbformat_minor": 4
}
